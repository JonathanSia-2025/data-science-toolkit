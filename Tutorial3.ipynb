{
  "nbformat": 4,
  "nbformat_minor": 0,
  "metadata": {
    "colab": {
      "provenance": [],
      "authorship_tag": "ABX9TyNI1segqkZga0rfVxF1Lnub",
      "include_colab_link": true
    },
    "kernelspec": {
      "name": "python3",
      "display_name": "Python 3"
    },
    "language_info": {
      "name": "python"
    }
  },
  "cells": [
    {
      "cell_type": "markdown",
      "metadata": {
        "id": "view-in-github",
        "colab_type": "text"
      },
      "source": [
        "<a href=\"https://colab.research.google.com/github/JonathanSia-2025/data-science-toolkit/blob/main/Tutorial3.ipynb\" target=\"_parent\"><img src=\"https://colab.research.google.com/assets/colab-badge.svg\" alt=\"Open In Colab\"/></a>"
      ]
    },
    {
      "cell_type": "code",
      "execution_count": null,
      "metadata": {
        "id": "-rZzRwCFYTdX"
      },
      "outputs": [],
      "source": [
        "import numpy as np"
      ]
    },
    {
      "cell_type": "code",
      "source": [
        "np.array([(1,2),(3,4)])"
      ],
      "metadata": {
        "colab": {
          "base_uri": "https://localhost:8080/"
        },
        "id": "ggKXvo1dPfEz",
        "outputId": "ca755f22-b7de-4cb8-9d26-13de79b50a99"
      },
      "execution_count": null,
      "outputs": [
        {
          "output_type": "execute_result",
          "data": {
            "text/plain": [
              "array([[1, 2],\n",
              "       [3, 4]])"
            ]
          },
          "metadata": {},
          "execution_count": 2
        }
      ]
    },
    {
      "cell_type": "code",
      "source": [
        "np.random.rand(3,4)"
      ],
      "metadata": {
        "colab": {
          "base_uri": "https://localhost:8080/"
        },
        "id": "AbqUDq0gPo0L",
        "outputId": "e333b08d-3de5-4e87-da55-f22b13fb7e6f"
      },
      "execution_count": null,
      "outputs": [
        {
          "output_type": "execute_result",
          "data": {
            "text/plain": [
              "array([[0.98886584, 0.19683959, 0.26131564, 0.69769819],\n",
              "       [0.40479822, 0.58237039, 0.35410062, 0.06591491],\n",
              "       [0.43983147, 0.87051625, 0.65922918, 0.39692658]])"
            ]
          },
          "metadata": {},
          "execution_count": 5
        }
      ]
    },
    {
      "cell_type": "code",
      "source": [
        "print(np.zeros((3,3)))\n",
        "\n",
        "print(np.ones((4,4)))"
      ],
      "metadata": {
        "colab": {
          "base_uri": "https://localhost:8080/"
        },
        "id": "BDTe6NKyQkCJ",
        "outputId": "5db43ae4-cab2-4b1d-c515-7e06f2f6a2af"
      },
      "execution_count": null,
      "outputs": [
        {
          "output_type": "stream",
          "name": "stdout",
          "text": [
            "[[0. 0. 0.]\n",
            " [0. 0. 0.]\n",
            " [0. 0. 0.]]\n",
            "[[1. 1. 1. 1.]\n",
            " [1. 1. 1. 1.]\n",
            " [1. 1. 1. 1.]\n",
            " [1. 1. 1. 1.]]\n"
          ]
        }
      ]
    },
    {
      "cell_type": "code",
      "source": [
        "np.random.rand(6,3).T"
      ],
      "metadata": {
        "colab": {
          "base_uri": "https://localhost:8080/"
        },
        "id": "RbmWdLjyRBH9",
        "outputId": "55a4c25b-ca1f-496a-a0cb-ef4717bfd52c"
      },
      "execution_count": null,
      "outputs": [
        {
          "output_type": "execute_result",
          "data": {
            "text/plain": [
              "array([[0.35956635, 0.69466368, 0.79575248, 0.83895514, 0.56032562,\n",
              "        0.17020114],\n",
              "       [0.01699482, 0.17953771, 0.22795634, 0.5700157 , 0.27614929,\n",
              "        0.07927598],\n",
              "       [0.57838388, 0.90139001, 0.51856471, 0.08548819, 0.05543873,\n",
              "        0.05639006]])"
            ]
          },
          "metadata": {},
          "execution_count": 9
        }
      ]
    },
    {
      "cell_type": "code",
      "source": [
        "arr1 = np.random.rand(3,4)\n",
        "arr2 = np.random.rand(4,5)\n",
        "\n",
        "dot_1_2 = np.dot(arr1, arr2)\n",
        "print(dot_1_2)"
      ],
      "metadata": {
        "colab": {
          "base_uri": "https://localhost:8080/"
        },
        "id": "95D0HhQtRJQA",
        "outputId": "625a1ca3-f027-44e3-f446-0e4ce73b9a1a"
      },
      "execution_count": null,
      "outputs": [
        {
          "output_type": "stream",
          "name": "stdout",
          "text": [
            "[[0.37801189 0.43773643 0.64339296 0.83667855 0.48701178]\n",
            " [0.97888769 0.87239706 1.28467661 1.43922483 0.81267614]\n",
            " [0.75238827 1.14920532 1.06122605 0.80004664 0.64927913]]\n"
          ]
        }
      ]
    }
  ]
}